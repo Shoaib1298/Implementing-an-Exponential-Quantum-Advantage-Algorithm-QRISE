{
 "cells": [
  {
   "cell_type": "markdown",
   "metadata": {},
   "source": [
    "# Classiq Challenge: Simulating classical oscillators\n"
   ]
  },
  {
   "cell_type": "code",
   "execution_count": 33,
   "metadata": {
    "id": "w3hapk8I4ZOU"
   },
   "outputs": [],
   "source": [
    "import numpy as np\n",
    "from numpy import kron, linalg as LA\n",
    "from math import log2\n",
    "import matplotlib.pyplot as plt\n",
    "import pandas as pd\n",
    "from itertools import product\n",
    "from typing import cast\n",
    "from classiq import (\n",
    "    Output,\n",
    "    QBit,\n",
    "    allocate,\n",
    "    create_model,\n",
    "    synthesize,\n",
    "    show,\n",
    "    set_preferences,\n",
    "    CustomHardwareSettings,\n",
    "    Preferences,\n",
    "    QuantumProgram,\n",
    "    QArray,\n",
    "    execute,\n",
    "    prepare_state,\n",
    "    exponentiation_with_depth_constraint,\n",
    "    qfunc,\n",
    "    write_qmod,\n",
    "    authenticate,\n",
    "    Pauli,\n",
    "    PauliTerm\n",
    ")\n"
   ]
  },
  {
   "cell_type": "code",
   "execution_count": 34,
   "metadata": {
    "colab": {
     "base_uri": "https://localhost:8080/"
    },
    "id": "J9NFrBCb4b_Z",
    "outputId": "2507db5e-aeb8-45e3-b3db-d2552499ea69"
   },
   "outputs": [],
   "source": [
    "# authenticate(overwrite=True)"
   ]
  },
  {
   "cell_type": "code",
   "execution_count": null,
   "metadata": {},
   "outputs": [],
   "source": []
  },
  {
   "cell_type": "code",
   "execution_count": null,
   "metadata": {},
   "outputs": [],
   "source": []
  },
  {
   "cell_type": "code",
   "execution_count": 35,
   "metadata": {},
   "outputs": [],
   "source": [
    "def parse_results(results,basis_states, N):\n",
    "    \"\"\"\n",
    "    This function takes a result from the Classiq simulator and parse it into a pandas dataframe\n",
    "    \"\"\"\n",
    "    res = results[0].dict()\n",
    "    \n",
    "    x = list(res['value']['counts'].keys())\n",
    "    y = list(res['value']['counts'].values())\n",
    "    \n",
    "    data = pd.DataFrame([x,y]).T\n",
    "    data.rename({0: 'state', 1: 'count'}, axis=1, inplace=True)\n",
    "    data['count'] = data['count'].astype(int)\n",
    "\n",
    "    data.sort_values(by='state', inplace=True)\n",
    "\n",
    "    data['prob'] = data['count'] / data['count'].sum()\n",
    "\n",
    "    \n",
    "    measured_states = set(data['state'])\n",
    "\n",
    "\n",
    "    if len(basis_states) != len(measured_states):\n",
    "        \n",
    "        not_measured = basis_states.difference(measured_states)\n",
    "\n",
    "        zeros = {'state': [i for i in not_measured], 'count': [0] * len(not_measured), 'prob': [0] * len(not_measured)}\n",
    "        \n",
    "        df_zeros = pd.DataFrame(zeros)\n",
    "        data = pd.concat([data, df_zeros]).sort_values('state')\n",
    "\n",
    "    data.set_index('state', inplace=True)\n",
    "\n",
    "    return data\n",
    "\n",
    "# generate all combinations of Pauli strings of size n\n",
    "def generate_all_pauli_strings(seq, n):\n",
    "    for s in product(seq, repeat=n):\n",
    "        yield \"\".join(s)\n",
    "\n",
    "\n",
    "Paulidict = {\n",
    "    \"I\": np.array([[1, 0], [0, 1]], dtype=np.complex128),\n",
    "    \"Z\": np.array([[1, 0], [0, -1]], dtype=np.complex128),\n",
    "    \"X\": np.array([[0, 1], [1, 0]], dtype=np.complex128),\n",
    "    \"Y\": np.array([[0, -1j], [1j, 0]], dtype=np.complex128),\n",
    "}\n",
    "\n",
    "# convert a Paulistring of size n to 2**n X 2**n matrix\n",
    "def pauli_string_2mat(seq):\n",
    "    myPmat = Paulidict[seq[0]]\n",
    "    for p in seq[1:]:\n",
    "        myPmat = kron(myPmat, Paulidict[p])\n",
    "    return myPmat\n",
    "\n",
    "\n",
    "# Hilbert-Schmidt-Product of two matrices M1, M2\n",
    "def hilbert_schmidt(M1, M2):\n",
    "    return (np.dot(M1.conjugate().transpose(), M2)).trace()\n",
    "\n",
    "\n",
    "# Naive decomposition, running over all HS products for all Pauli strings\n",
    "def lcu_naive(H):\n",
    "    assert H.shape[0] == H.shape[1], \"matrix is not square\"\n",
    "    assert H.shape[0] != 0, \"matrix is of size 0\"\n",
    "    assert H.shape[0] & (H.shape[0] - 1) == 0, \"matrix size is not 2**n\"\n",
    "\n",
    "    n = int(np.log2(H.shape[0]))\n",
    "    myPualiList = list(generate_all_pauli_strings(\"IZXY\", n))\n",
    "\n",
    "    mylist = []\n",
    "\n",
    "    for pstr in myPualiList:\n",
    "        co = (1 / 2**n) * hilbert_schmidt(pauli_string_2mat(pstr), H)\n",
    "        if co != 0:\n",
    "            mylist = mylist + [(pstr, co)]\n",
    "\n",
    "    return mylist\n",
    "\n",
    "\n",
    "\n",
    "my_list = {\"I\": Pauli.I, \"X\": Pauli.X, \"Y\": Pauli.Y, \"Z\": Pauli.Z}\n",
    "def pauli_str_to_enums(pauli):\n",
    "    return [my_list[s] for s in pauli]\n",
    "\n",
    "\n",
    "def pauli_operator_to_hamiltonian(pauli_list):\n",
    "    return [\n",
    "        PauliTerm(\n",
    "            pauli=pauli_str_to_enums(pauli), coefficient=cast(complex, coeff).real\n",
    "        )\n",
    "        for pauli, coeff in pauli_list\n",
    "    ]\n",
    "\n",
    "# creats the basis for a given no of Qbit\n",
    "def basis(N):\n",
    "    tmp = [bin(i)[2:] for i in range(2**N)]\n",
    "\n",
    "    longest = len(tmp[-1])\n",
    "\n",
    "    return [ i if len(i) == longest else (longest - len(i)) * '0' + i for i in tmp]\n",
    "\n",
    "\n",
    "# Filter functions to help\n",
    "\n",
    "def kinectic_part(array):\n",
    "    lenght = len(array)\n",
    "    return array[:lenght//2]\n",
    "\n",
    "def potential_part(array):\n",
    "    lenght = len(array)\n",
    "    return array[lenght//2:]\n",
    "\n",
    "def average(arr, l, k,norm):\n",
    "    \"\"\"\n",
    "    Calculate the average energy between the nth oscilator and the mth oscilator\n",
    "    \"\"\"\n",
    "    E = (norm ** 2) / 2\n",
    "    return E * np.sum(arr[l : l + k]) / (2 * k) \n",
    "\n",
    "#KE and PE for a given state\n",
    "def KE_PE(state,E_0):\n",
    "    KE_t = E_0*sum(kinectic_part(state))\n",
    "    PE_t= E_0*sum(potential_part(state))\n",
    "    return(KE_t,PE_t)\n",
    "\n",
    "#check if varibles differ by a given percentage tolerance\n",
    "def is_within_percent_tolerance(x,y,tolerance):\n",
    "    if (np.abs(x-y)/y)*10 < tolerance :\n",
    "        return(True)\n",
    "    else:\n",
    "        return(False)\n",
    "    \n",
    "def is_Energy_constant(KE,PE,E_0):\n",
    "    if np.abs(KE+PE-E_0) < 10**(-4):\n",
    "        return(True)\n",
    "    else:\n",
    "        return(False)"
   ]
  },
  {
   "cell_type": "code",
   "execution_count": 36,
   "metadata": {},
   "outputs": [],
   "source": [
    "#K_matrix of system of identical spring constants in 1-d\n",
    "def get_k_1D_identical(N,k):\n",
    "    main_diagonal_values = np.full(N, k)  \n",
    "    off_diagonal_values = np.full(N-1, k)      \n",
    "    k_array = np.diag(main_diagonal_values) + np.diag(off_diagonal_values, k=1)+np.diag(off_diagonal_values, k=-1)\n",
    "    return(k_array)   \n",
    "\n",
    "#create mass matrix with mass of particles as diagonal entries for a system with identical masses \n",
    "def get_mass_identical(N,m):\n",
    "    mass_array= np.full(N, m)\n",
    "    mass = np.diag(mass_array)\n",
    "    return(mass)\n",
    "\n",
    "#Form Force in matrix form\n",
    "def get_Force(k_array):\n",
    "    N=k_array.shape[0]\n",
    "    F = np.zeros((N,N))\n",
    "    for i in range (0,N):\n",
    "        for j in range (0,N):\n",
    "            if(i==j):\n",
    "                coff=0\n",
    "                for k in range(0,N):\n",
    "                    coff = coff + k_array[j][k]\n",
    "                F[i][j]=coff\n",
    "            else:\n",
    "                F[i][j]=-k_array[i][j]\n",
    "    return(F)\n",
    "\n",
    "def get_H_B(F,M):\n",
    "    mass_inverse = np.linalg.inv(M)\n",
    "    mass_inverse = np.sqrt(mass_inverse)\n",
    "    \n",
    "    A=np.dot(np.dot(mass_inverse,F),mass_inverse)\n",
    "\n",
    "    #finding B matrix\n",
    "    B = np.linalg.cholesky(A)\n",
    "\n",
    "    H = -1* np.block([\n",
    "        [np.zeros(B.shape), B],\n",
    "        [B.T, np.zeros(B.shape) ]\n",
    "    ])\n",
    "    return(H,B)\n",
    "\n",
    "def get_normalized_psi(B,M,x_zero,x_dot_zero):\n",
    "    y_zero = np.sqrt(M) @ x_zero\n",
    "    y_dot_zero = np.sqrt(M) @ x_dot_zero\n",
    "    mu_zero = B.T.conj() @ y_zero\n",
    "    psi = np.concatenate([y_dot_zero, 1j * mu_zero])\n",
    "    norm = np.sqrt((psi.conj() @ psi).real)\n",
    "    psi /= norm     #normalization\n",
    "    prob = list(np.abs(psi) ** 2)\n",
    "    return(psi,prob,norm)\n"
   ]
  },
  {
   "cell_type": "code",
   "execution_count": 37,
   "metadata": {},
   "outputs": [],
   "source": [
    "def energy_evoultion(max_depth,t_f,num_points,n,k,m,basis_states,x_zero,x_dot_zero):\n",
    "    N=2**n\n",
    "    K = get_k_1D_identical(N,k)\n",
    "    M = get_mass_identical(N,m)\n",
    "    F=get_Force(K)\n",
    "    (H,B) = get_H_B(F,M)\n",
    "    (psi,prob,norm)=get_normalized_psi(B,M,x_zero,x_dot_zero)\n",
    "    E_0 = (norm**2)/2.0\n",
    "\n",
    "    H_pauli = lcu_naive(H)\n",
    "    H_final = pauli_operator_to_hamiltonian(H_pauli)\n",
    "\n",
    "    total_kinetic = []\n",
    "    total_potential = []\n",
    "    KE_0=[]\n",
    "    KE_1=[]\n",
    "    KE_2=[]\n",
    "    KE_3=[]\n",
    "        \n",
    "    PE_0=[]\n",
    "    PE_1=[]\n",
    "    PE_2=[]\n",
    "    PE_3=[]\n",
    "\n",
    "    time_steps = np.linspace(0, t_f, num = num_points)\n",
    "    for t in time_steps:\n",
    "\n",
    "        results = exponentiation(prob,max_depth,H_final,t)\n",
    "\n",
    "        data = parse_results(results,basis_states, N)\n",
    "\n",
    "        probs = data['prob']\n",
    "\n",
    "        KE_0.append(E_0*probs[0])\n",
    "        KE_1.append(E_0*probs[1])\n",
    "        KE_2.append(E_0*probs[2])\n",
    "        KE_3.append(E_0*probs[3])\n",
    "\n",
    "        PE_0.append(probs[4])\n",
    "        PE_1.append(probs[5])\n",
    "        PE_2.append(probs[6])\n",
    "        PE_3.append(probs[7])\n",
    "        \n",
    "\n",
    "\n",
    "\n",
    "        kin = kinectic_part(probs).sum() * E_0\n",
    "        pontential = potential_part(probs).sum() * E_0\n",
    "\n",
    "        total_kinetic.append(kin)\n",
    "        total_potential.append(pontential)\n",
    "    \n",
    "    #plotting\n",
    "    plt.plot(time_steps, total_kinetic, label='kinetic')\n",
    "    plt.plot(time_steps, total_potential, label='potential')  \n",
    "\n",
    "    return(total_kinetic, total_potential,E_0,KE_0,KE_1,KE_2,KE_3,PE_0,PE_1,PE_2,PE_3)    "
   ]
  },
  {
   "cell_type": "code",
   "execution_count": 38,
   "metadata": {},
   "outputs": [],
   "source": [
    "### Does the state evolution ###\n",
    "def exponentiation(prob,max_depth,H_final,t, write_qmodel_file=False, write_qprog_file=False,custom_run_time =False,show_qrog = False):\n",
    "    @qfunc\n",
    "    def main() -> None:\n",
    "        state = QArray(\"state\")\n",
    "        prepare_state(probabilities=prob, bound=0.01, out=state)\n",
    "        exponentiation_with_depth_constraint(\n",
    "        H_final,\n",
    "        evolution_coefficient=t,\n",
    "        max_depth=max_depth,\n",
    "        qbv=state,\n",
    "        )\n",
    "    model = create_model(main)\n",
    "\n",
    "    if custom_run_time :\n",
    "\n",
    "        custom_hardware_settings = CustomHardwareSettings(\n",
    "        basis_gates=[\"cx\", \"cp\", \"sx\", \"rz\", \"x\"]\n",
    "        )\n",
    "\n",
    "        preferences = Preferences(\n",
    "        output_format=[\"qasm\", \"qsharp\"],\n",
    "        custom_hardware_settings=custom_hardware_settings,\n",
    "        timeout_seconds=800000,  # Set generation timeout to 10 minutes\n",
    "        optimization_timeout_seconds=400,  # Set optimization timeout to 5 minutes\n",
    "        )\n",
    "\n",
    "        model = set_preferences(model, preferences)\n",
    "\n",
    "    if write_qmodel_file:\n",
    "        write_qmod(model,f\"system_N={len(prob)//2}\")\n",
    "    \n",
    "    qprog = synthesize(model)\n",
    "    if write_qprog_file:\n",
    "        with open(f'system_N={len(prob)//2}.qprog', 'w') as f:\n",
    "            f.write(qprog)\n",
    "\n",
    "    job = execute(qprog)\n",
    "    results = job.result() \n",
    "    if show_qrog:\n",
    "        show(qprog)\n",
    "    return results"
   ]
  },
  {
   "cell_type": "markdown",
   "metadata": {},
   "source": [
    "#### $\\langle KE(t) \\rangle$ and $\\langle PE(t) \\rangle$ of 8-Coupled oscillators; N = 8\n"
   ]
  },
  {
   "cell_type": "markdown",
   "metadata": {},
   "source": [
    "In our approach, inspired by the methodology described by Babush et al., we began by defining the quantum system. This involved specifying the number of oscillators (N), which also determined the necessary number of qubits $(n = \\log_2(N))$ to encode state(not necessarily to prepare it), along with the initial velocities, positions, masses, and spring constants. From this foundational data, we constructed the essential matrices: M, representing the mass matrix in diagonal form; K, the matrix of spring constants; and F, the matrix form of the force.\n"
   ]
  },
  {
   "cell_type": "code",
   "execution_count": 39,
   "metadata": {},
   "outputs": [],
   "source": [
    "n = 3\n",
    "N = 2**n\n",
    "m = 1\n",
    "k = 1\n",
    "\n",
    "x_zero = [0]*N\n",
    "x_dot_zero = [0]*N\n",
    "\n",
    "x_zero[0] = 1\n",
    "x_zero[1] = 1\n",
    "\n",
    "K = get_k_1D_identical(N,k)\n",
    "M = get_mass_identical(N,m)\n",
    "\n",
    "\n",
    "F = get_Force(K)"
   ]
  },
  {
   "cell_type": "markdown",
   "metadata": {},
   "source": [
    "To map the Schrödinger and Newtonian equations, our process involved several steps. Initially, we created matrix A by applying the inverse square root of the mass matrix to the F matrix $(A = (\\sqrt{M})^{-1} F (\\sqrt{M})^{-1})$. Following this, we performed a Cholesky decomposition of matrix A to generate matrix B. This was done our code by using the `get_H_B` function.\n"
   ]
  },
  {
   "cell_type": "code",
   "execution_count": 40,
   "metadata": {},
   "outputs": [],
   "source": [
    "(H,B) = get_H_B(F,M)"
   ]
  },
  {
   "cell_type": "markdown",
   "metadata": {},
   "source": [
    "This step allowed us to encode the system's initial state information at \\(t=0\\) into the quantum state's amplitudes. Specifically, we encoded this information as\n",
    "\n",
    "$$\n",
    "\\ket{\\psi(0)} = \\frac{1}{\\sqrt{2 E}} \\begin{pmatrix}\n",
    "\\vec{\\dot{y}}(0) \\\\\n",
    "i \\mu(0) \\\\\n",
    "\\end{pmatrix}\n",
    "$$\n",
    "\n",
    "where $\\vec{y}(0) = \\sqrt{M} \\vec{x}(0)$ and $\\vec{\\mu}(0) = B^\\dagger \\vec{y}(0)$. This encoding was achieved in our code through the use of the `get_normalized_psi` function.\n"
   ]
  },
  {
   "cell_type": "markdown",
   "metadata": {},
   "source": [
    "---\n"
   ]
  },
  {
   "cell_type": "code",
   "execution_count": 41,
   "metadata": {},
   "outputs": [],
   "source": [
    "(psi,prob,norm) = get_normalized_psi(B,M,x_zero,x_dot_zero)\n",
    "E_0 = (norm**2)/2.0"
   ]
  },
  {
   "cell_type": "code",
   "execution_count": 42,
   "metadata": {},
   "outputs": [
    {
     "data": {
      "text/plain": [
       "1.5000000000000007"
      ]
     },
     "execution_count": 42,
     "metadata": {},
     "output_type": "execute_result"
    }
   ],
   "source": [
    "E_0"
   ]
  },
  {
   "cell_type": "markdown",
   "metadata": {},
   "source": [
    "Adapting our Hamiltonian for the quantum circuit required its reformulation into a product of Pauli matrices. We accomplished this through the `lcu_naive` function, which performs a naive LCU decomposition, a method also outlined in the Classiq documentation. This step is critical for integrating our Hamiltonian into the quantum circuit via Classiq's `exponentiation_with_depth_constraint` function, which plays the role of evolving the state.\n"
   ]
  },
  {
   "cell_type": "code",
   "execution_count": 43,
   "metadata": {},
   "outputs": [],
   "source": [
    "H_pauli = lcu_naive(H)\n",
    "H_final = pauli_operator_to_hamiltonian(H_pauli)"
   ]
  },
  {
   "cell_type": "markdown",
   "metadata": {},
   "source": [
    "we ran the simulation iteratively over evolution_coefficient in range (0,t) and compute the average kinetic energy $\\langle KE(t) \\rangle$ and potential energy $\\langle PE(t) \\rangle$ of the entire system as well as subsets of $k$ oscillators ($k < N$), of a linearly arranged series of 8 - coupled harmonic oscillators sharing identical mass and spring constants.\n"
   ]
  },
  {
   "cell_type": "markdown",
   "metadata": {},
   "source": [
    "#### NOTE:\n"
   ]
  },
  {
   "cell_type": "markdown",
   "metadata": {},
   "source": [
    "-Changing the x_zero and x_dot_zero changes the no of qbits used and changing t changes the depth.\n"
   ]
  },
  {
   "cell_type": "markdown",
   "metadata": {},
   "source": [
    "-Please unhash show(qprog) in the exponential function to see Quantum circuit in classiq platform.\n"
   ]
  },
  {
   "cell_type": "code",
   "execution_count": 44,
   "metadata": {},
   "outputs": [],
   "source": [
    "t_f = 6\n",
    "num_points = 6\n",
    "time_steps = np.linspace(0, t_f, num = num_points)\n",
    "\n",
    "max_depth = 290000\n",
    "total_kinetic = []\n",
    "total_potential = []\n",
    "basis_states=set(basis(n+1))\n",
    "KE_0=[]\n",
    "KE_1=[]\n",
    "KE_2=[]\n",
    "KE_3=[]"
   ]
  },
  {
   "cell_type": "markdown",
   "metadata": {},
   "source": [
    "The `exponentiation function` contain `main()` function which encompasses two critical stages:\n",
    "\n",
    "a. The creation of the initial quantum state which is accomplished by leveraging the `prepare_state` function of classiq utilising\n",
    "the `prob` array, which delineates the probabilities of each individual basis state at the initial time, $(t=0)$.\n",
    "\n",
    "b. The subsequent stage involves the evolution of this quantum state, utilizing the `exponentiation_with_depth_constraint`. The Classiq exponentiation module enhances the process by automatically reducing errors and optimizing the Suzuki-Trotter decomposition's order and number of repetitions to fit a specified circuit depth.\n"
   ]
  },
  {
   "cell_type": "code",
   "execution_count": 45,
   "metadata": {},
   "outputs": [
    {
     "name": "stdout",
     "output_type": "stream",
     "text": [
      "16\n",
      "16\n",
      "16\n",
      "16\n",
      "16\n",
      "16\n"
     ]
    },
    {
     "data": {
      "image/png": "[encoded data removed]",
      "text/plain": [
       "<Figure size 640x480 with 1 Axes>"
      ]
     },
     "metadata": {},
     "output_type": "display_data"
    }
   ],
   "source": [
    "\n",
    "for t in time_steps:\n",
    "\n",
    "    results = exponentiation(prob,max_depth,H_final,t)\n",
    "\n",
    "    data = parse_results(results,basis_states, N)\n",
    "    probs = data['prob']\n",
    "\n",
    "    print(len(probs))\n",
    "\n",
    "    KE_0.append(E_0*probs[1])\n",
    "    KE_1.append(E_0*probs[2])\n",
    "    KE_2.append(E_0*probs[3])\n",
    "    KE_3.append(E_0*probs[4])\n",
    "\n",
    "    kin = kinectic_part(probs).sum()*E_0\n",
    "    pontential = potential_part(probs).sum()*E_0\n",
    "\n",
    "    total_kinetic.append(kin)\n",
    "    total_potential.append(pontential)\n",
    "\n",
    "    \n",
    "#plotting\n",
    "plt.plot(time_steps, total_kinetic, label='kinetic')\n",
    "plt.plot(time_steps, total_potential, label='potential')  \n",
    "\n",
    "plt.xlabel('time')\n",
    "plt.ylabel('Energy')\n",
    "plt.legend()\n",
    "KE_sub=[]\n",
    "PE_sub=[]\n"
   ]
  },
  {
   "cell_type": "markdown",
   "metadata": {},
   "source": [
    "Note: The plot is a little bit different from the one in the video because we found a bug on the code after the recording. Fixing that bug the plot also changed."
   ]
  },
  {
   "cell_type": "markdown",
   "metadata": {},
   "source": [
    "$\\langle KE(t) \\rangle$ and potential energy $\\langle PE(t) \\rangle$ of the entire system\n"
   ]
  },
  {
   "cell_type": "code",
   "execution_count": 46,
   "metadata": {},
   "outputs": [],
   "source": [
    "AvgKE = sum(total_kinetic)/len(total_kinetic)\n",
    "\n",
    "AvgPE = sum(total_potential)/len(total_potential)"
   ]
  },
  {
   "cell_type": "markdown",
   "metadata": {},
   "source": [
    "check_2\n"
   ]
  },
  {
   "cell_type": "markdown",
   "metadata": {},
   "source": [
    "Verifying the energy of entire system after evolution is equal to the energy of before evolution\n"
   ]
  },
  {
   "cell_type": "code",
   "execution_count": 47,
   "metadata": {},
   "outputs": [
    {
     "data": {
      "text/plain": [
       "True"
      ]
     },
     "execution_count": 47,
     "metadata": {},
     "output_type": "execute_result"
    }
   ],
   "source": [
    "is_Energy_constant(total_kinetic[-1],total_potential[-1],E_0)\n",
    "is_Energy_constant(AvgKE,AvgPE,E_0)"
   ]
  },
  {
   "cell_type": "markdown",
   "metadata": {},
   "source": [
    "$\\langle KE(t) \\rangle$ and potential energy $\\langle PE(t) \\rangle$ of the sub-system of k oscillators between k=0 and l+k=3.\n"
   ]
  },
  {
   "cell_type": "code",
   "execution_count": 48,
   "metadata": {},
   "outputs": [],
   "source": [
    "for t in range(0,len(KE_0)):\n",
    "    KE_sub.append(KE_0[t] + KE_1[t] + KE_2[t] + KE_3[t])\n",
    "    \n",
    "\n",
    "AvgKE_sub = sum(KE_sub)/len(KE_0)\n",
    "AvgPE_sub = E_0 - AvgKE_sub"
   ]
  },
  {
   "cell_type": "markdown",
   "metadata": {},
   "source": [
    "Check 2:\n",
    "\n",
    "we ran the above simulation iteratively over evolution_coefficient in range (0,t) for N=2, and storing and graphing the velocity of an individual osscilator against t.\n"
   ]
  },
  {
   "cell_type": "markdown",
   "metadata": {},
   "source": [
    "#### Tracking Velocities/KE of 2-identical oscillators\n"
   ]
  },
  {
   "cell_type": "code",
   "execution_count": 50,
   "metadata": {},
   "outputs": [
    {
     "data": {
      "text/plain": [
       "Text(0, 0.5, 'Kinetic Energy')"
      ]
     },
     "execution_count": 50,
     "metadata": {},
     "output_type": "execute_result"
    },
    {
     "data": {
      "image/png": "[encoded data removed]",
      "text/plain": [
       "<Figure size 640x480 with 1 Axes>"
      ]
     },
     "metadata": {},
     "output_type": "display_data"
    }
   ],
   "source": [
    "\n",
    "#defining system    \n",
    "N_t = 2\n",
    "k_t = 1\n",
    "m_t = 1\n",
    "x_t = [1,1]\n",
    "v_t = [0,0]\n",
    "basis_states_t = set(basis(2))\n",
    "\n",
    "#time parameters\n",
    "\n",
    "t_f = 6\n",
    "num_points_t = 20\n",
    "time_steps = np.linspace(0, t_f, num = num_points_t)\n",
    "basis_states = set(basis(n))\n",
    "#Building essential matrices\n",
    "\n",
    "K_t = get_k_1D_identical(N_t,k_t)\n",
    "M_t = get_mass_identical(N_t,m_t)\n",
    "F_t = get_Force(K_t)\n",
    "(H_t,B_t) = get_H_B(F_t,M_t)\n",
    "(psi_t,prob_t,norm_t) = get_normalized_psi(B_t,M_t,x_t,v_t)\n",
    "E_0 = (norm_t**2)/2.0\n",
    "\n",
    "#reformating the Hamiltion\n",
    "\n",
    "H_pauli_t = lcu_naive(H_t)\n",
    "H_final_t = pauli_operator_to_hamiltonian(H_pauli_t)\n",
    "\n",
    "\n",
    "KE_particle_0 = []\n",
    "PE_particle_0 = []\n",
    "\n",
    "for t in time_steps:\n",
    "    results_t = exponentiation(prob_t,40000,H_final_t,t)\n",
    "\n",
    "    data = parse_results(results_t,basis_states_t, N_t)\n",
    "\n",
    "    probs_t = data['prob']\n",
    "\n",
    "    kin = kinectic_part(probs_t) * E_0\n",
    "    pontential = potential_part(probs_t)* E_0\n",
    "\n",
    "    KE_particle_0.append(kin[0])\n",
    "    PE_particle_0.append(pontential[0])\n",
    "        \n",
    "        \n",
    "        \n",
    "#plotting\n",
    "\n",
    "plt.plot(time_steps, KE_particle_0, label='kinetic energy of 0th particle')\n",
    "plt.xlabel('time')\n",
    "plt.ylabel('Kinetic Energy')"
   ]
  },
  {
   "cell_type": "markdown",
   "metadata": {},
   "source": [
    "#### Simulation for large system (N = 128)\n"
   ]
  },
  {
   "cell_type": "code",
   "execution_count": 56,
   "metadata": {},
   "outputs": [],
   "source": [
    "n = 7\n",
    "N = 2**n\n",
    "m = 1\n",
    "k = 1\n",
    "\n",
    "#changing x_zero and x_dot_zero change the no of qbits utlised\n",
    "\n",
    "x_zero = [0]*N\n",
    "x_dot_zero = [0]*N\n",
    "\n",
    "for i in range(0,N//2):\n",
    "    x_zero[i] = 1\n",
    "\n",
    "#changing t changes the depth of the system\n",
    "\n",
    "t = 10\n",
    "\n",
    "max_depth = 29000\n",
    "\n",
    "K = get_k_1D_identical(N,k)\n",
    "M = get_mass_identical(N,m)\n",
    "\n",
    "basis_states = set(basis(n+1))\n",
    "\n",
    "\n",
    "F = get_Force(K)\n",
    "(H,B) = get_H_B(F,M)\n",
    "(psi,prob,norm) = get_normalized_psi(B,M,x_zero,x_dot_zero)\n",
    "E_0 = (norm**2)/2.0\n",
    "\n",
    "H_pauli = lcu_naive(H)\n",
    "H_final = pauli_operator_to_hamiltonian(H_pauli)\n",
    "\n",
    "results = exponentiation(prob,max_depth,H_final,t, write_qmodel_file=True, write_qprog_file=True,show_qrog = False)\n",
    "\n",
    "data = parse_results(results_t,basis_states_t, N_t)\n",
    "\n",
    "probs = data['prob']\n",
    "\n",
    "\n",
    "\n"
   ]
  },
  {
   "cell_type": "markdown",
   "metadata": {},
   "source": [
    "Note\n",
    "\n",
    "Above are the implimentations for N=8, N=128 but given the parmetric nature of the algorithm we can run a system with larger or smaller number of qbits by simply changing n and increse or decrease depth by changing max_depth of our Quantum circuit.\n"
   ]
  },
  {
   "cell_type": "markdown",
   "metadata": {},
   "source": [
    "#### Simulation of non-identical oscillators\n"
   ]
  },
  {
   "cell_type": "markdown",
   "metadata": {},
   "source": [
    "we propose a function that is designed to simulate the systems with higher dimensionality, extending beyond the requirement for a linear oscillator arrangement\n"
   ]
  },
  {
   "cell_type": "markdown",
   "metadata": {},
   "source": [
    "This takes input a diagonal Matrix of masses and a matrix containing spring constants both of which should be of size :$ N \\times N $ formed in accordance to description in Babush et al.\n"
   ]
  },
  {
   "cell_type": "code",
   "execution_count": 52,
   "metadata": {},
   "outputs": [],
   "source": [
    "def Non_identical_oscillators(max_depth,t,n,K,M,x_zero,x_dot_zero,qbits_used):\n",
    "    N=2**n\n",
    "    \n",
    "    F=get_Force(K)\n",
    "    (H,B) = get_H_B(F,M)\n",
    "    (psi,prob,norm)=get_normalized_psi(B,M,x_zero,x_dot_zero)\n",
    "    E_0 = (norm**2)/2.0\n",
    "\n",
    "    basis_states = set(basis(qbits_used))\n",
    "    H_pauli = lcu_naive(H)\n",
    "    H_final = pauli_operator_to_hamiltonian(H_pauli)\n",
    "\n",
    "    results = exponentiation(prob,max_depth,H_final,t,write_qmodel_file = True)\n",
    "\n",
    "    data = parse_results(results,basis_states, N)\n",
    "\n",
    "    probs = data['prob']\n",
    "\n",
    "    total_kinetic = kinectic_part(probs).sum()\n",
    "    total_potential = potential_part(probs).sum()\n",
    "\n",
    "    return(total_kinetic, total_potential)    "
   ]
  },
  {
   "cell_type": "markdown",
   "metadata": {},
   "source": [
    "Note\n",
    "\n",
    "If values in the prob are truncated then they don't sum to 1.\n",
    "\n",
    "The knownledge of the number of qbits needed to do `state_preparation` is required and must be given as an argument `qbits_used` to this function\n"
   ]
  }
 ],
 "metadata": {
  "colab": {
   "provenance": []
  },
  "kernelspec": {
   "display_name": "Python 3 (ipykernel)",
   "language": "python",
   "name": "python3"
  },
  "language_info": {
   "codemirror_mode": {
    "name": "ipython",
    "version": 3
   },
   "file_extension": ".py",
   "mimetype": "text/x-python",
   "name": "python",
   "nbconvert_exporter": "python",
   "pygments_lexer": "ipython3",
   "version": "3.9.0"
  }
 },
 "nbformat": 4,
 "nbformat_minor": 4
}
